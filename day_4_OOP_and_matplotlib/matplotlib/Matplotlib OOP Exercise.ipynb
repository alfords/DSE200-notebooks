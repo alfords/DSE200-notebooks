{
 "cells": [
  {
   "cell_type": "markdown",
   "metadata": {},
   "source": [
    "### Matplotlib Exercises###"
   ]
  },
  {
   "cell_type": "markdown",
   "metadata": {},
   "source": [
    "In this exercise we will write a class which will take a pandas dataframe and output a set of plots describing the dataframe. For this we will use data from http://earthquake.usgs.gov/ which maintains csv files corresponding to data of earthquake occurrences sorted according to earthquakes magnitude, ranging from significant only down to all earthquakes, major or minor. The csv files are available here "
   ]
  },
  {
   "cell_type": "code",
   "execution_count": 1,
   "metadata": {
    "collapsed": true
   },
   "outputs": [],
   "source": [
    "feed=\"http://earthquake.usgs.gov/earthquakes/feed/v1.0/summary/\""
   ]
  },
  {
   "cell_type": "code",
   "execution_count": 7,
   "metadata": {
    "collapsed": false
   },
   "outputs": [
    {
     "name": "stdout",
     "output_type": "stream",
     "text": [
      "Populating the interactive namespace from numpy and matplotlib\n"
     ]
    }
   ],
   "source": [
    "import numpy as np\n",
    "import pandas as pd\n",
    "import urllib2\n",
    "import matplotlib as mpl\n",
    "import matplotlib.pyplot as plt\n",
    "%pylab inline\n",
    "\n",
    "# in order to make the animation work inside the notebook use,\n",
    "# instead of %pylab inine\n",
    "# %matplotlib nbagg"
   ]
  },
  {
   "cell_type": "markdown",
   "metadata": {},
   "source": [
    "Check if you have the updated version of Matplotlib i.e 1.5.0. If not you can udate it using linux command sudo pip install --upgrade matplotlib for unix boxes and corresponding brew command for mac"
   ]
  },
  {
   "cell_type": "code",
   "execution_count": 3,
   "metadata": {
    "collapsed": false,
    "scrolled": true
   },
   "outputs": [
    {
     "name": "stdout",
     "output_type": "stream",
     "text": [
      "1.5.0\n"
     ]
    }
   ],
   "source": [
    "print mpl.__version__"
   ]
  },
  {
   "cell_type": "markdown",
   "metadata": {},
   "source": [
    "### Acquiring Data ###\n",
    "\n",
    "For this assignment we will be working with the following csv files\n",
    "\n",
    "1. Significant earthquakes in the last 30 days : feed + \"significant_month.csv\"\n",
    "2. Magnitude > 4.5 : feed + \"4.5_month.csv\"\n",
    "3. Magnitude > 2.5 : feed + \"2.5_month.csv\"\n",
    "4. Magnitude > 1.0 : feed + \"1.0_month.csv\""
   ]
  },
  {
   "cell_type": "markdown",
   "metadata": {},
   "source": [
    "Q1) Write a function which takes an integer input from 1 to 4 and outputs a pandas dataframe corresponding to the csv file above. Note that the function should necessarily download the data from the website via internet."
   ]
  },
  {
   "cell_type": "code",
   "execution_count": 13,
   "metadata": {
    "collapsed": true
   },
   "outputs": [],
   "source": [
    "filenames=[\"significant_month.csv\",\n",
    "           \"4.5_month.csv\",\n",
    "           \"2.5_month.csv\",\n",
    "           \"1.0_month.csv\"]\n",
    "def download_data(i):\n",
    "    url=feed+filenames[i-1];\n",
    "    print 'downloading',url\n",
    "    return pd.read_csv(url);"
   ]
  },
  {
   "cell_type": "code",
   "execution_count": 15,
   "metadata": {
    "collapsed": false,
    "scrolled": false
   },
   "outputs": [
    {
     "name": "stdout",
     "output_type": "stream",
     "text": [
      "downloading http://earthquake.usgs.gov/earthquakes/feed/v1.0/summary/significant_month.csv\n",
      "downloading http://earthquake.usgs.gov/earthquakes/feed/v1.0/summary/4.5_month.csv\n",
      "downloading http://earthquake.usgs.gov/earthquakes/feed/v1.0/summary/2.5_month.csv\n",
      "downloading http://earthquake.usgs.gov/earthquakes/feed/v1.0/summary/1.0_month.csv\n"
     ]
    },
    {
     "data": {
      "text/html": [
       "<div style=\"max-height:1000px;max-width:1500px;overflow:auto;\">\n",
       "<table border=\"1\" class=\"dataframe\">\n",
       "  <thead>\n",
       "    <tr style=\"text-align: right;\">\n",
       "      <th></th>\n",
       "      <th>time</th>\n",
       "      <th>latitude</th>\n",
       "      <th>longitude</th>\n",
       "      <th>depth</th>\n",
       "      <th>mag</th>\n",
       "      <th>magType</th>\n",
       "      <th>nst</th>\n",
       "      <th>gap</th>\n",
       "      <th>dmin</th>\n",
       "      <th>rms</th>\n",
       "      <th>net</th>\n",
       "      <th>id</th>\n",
       "      <th>updated</th>\n",
       "      <th>place</th>\n",
       "      <th>type</th>\n",
       "    </tr>\n",
       "  </thead>\n",
       "  <tbody>\n",
       "    <tr>\n",
       "      <th>0</th>\n",
       "      <td> 2015-11-13T20:51:31.920Z</td>\n",
       "      <td> 30.9977</td>\n",
       "      <td> 128.8362</td>\n",
       "      <td> 10.00</td>\n",
       "      <td> 6.7</td>\n",
       "      <td> mww</td>\n",
       "      <td>NaN</td>\n",
       "      <td> 17</td>\n",
       "      <td> 1.475</td>\n",
       "      <td> 1.64</td>\n",
       "      <td> us</td>\n",
       "      <td> us10003y71</td>\n",
       "      <td> 2015-11-13T22:57:36.938Z</td>\n",
       "      <td> 144km WSW of Makurazaki, Japan</td>\n",
       "      <td> earthquake</td>\n",
       "    </tr>\n",
       "    <tr>\n",
       "      <th>1</th>\n",
       "      <td> 2015-11-11T02:46:19.900Z</td>\n",
       "      <td>-29.4445</td>\n",
       "      <td> -72.1732</td>\n",
       "      <td> 10.00</td>\n",
       "      <td> 6.9</td>\n",
       "      <td> mww</td>\n",
       "      <td>NaN</td>\n",
       "      <td> 33</td>\n",
       "      <td> 0.940</td>\n",
       "      <td> 1.53</td>\n",
       "      <td> us</td>\n",
       "      <td> us10003x9g</td>\n",
       "      <td> 2015-11-13T06:15:19.359Z</td>\n",
       "      <td>     98km NW of Coquimbo, Chile</td>\n",
       "      <td> earthquake</td>\n",
       "    </tr>\n",
       "    <tr>\n",
       "      <th>2</th>\n",
       "      <td> 2015-11-11T01:54:37.710Z</td>\n",
       "      <td>-29.4393</td>\n",
       "      <td> -72.1054</td>\n",
       "      <td> 10.00</td>\n",
       "      <td> 6.9</td>\n",
       "      <td> mww</td>\n",
       "      <td>NaN</td>\n",
       "      <td> 39</td>\n",
       "      <td> 0.893</td>\n",
       "      <td> 1.53</td>\n",
       "      <td> us</td>\n",
       "      <td> us10003x8t</td>\n",
       "      <td> 2015-11-11T15:28:23.143Z</td>\n",
       "      <td>     93km NW of Coquimbo, Chile</td>\n",
       "      <td> earthquake</td>\n",
       "    </tr>\n",
       "    <tr>\n",
       "      <th>3</th>\n",
       "      <td> 2015-11-08T16:47:02.140Z</td>\n",
       "      <td>  6.8456</td>\n",
       "      <td>  94.6609</td>\n",
       "      <td> 10.00</td>\n",
       "      <td> 6.4</td>\n",
       "      <td> mwb</td>\n",
       "      <td>NaN</td>\n",
       "      <td> 31</td>\n",
       "      <td> 2.783</td>\n",
       "      <td> 1.23</td>\n",
       "      <td> us</td>\n",
       "      <td> us10003vry</td>\n",
       "      <td> 2015-11-09T04:37:22.000Z</td>\n",
       "      <td>  128km NW of Sabang, Indonesia</td>\n",
       "      <td> earthquake</td>\n",
       "    </tr>\n",
       "    <tr>\n",
       "      <th>4</th>\n",
       "      <td> 2015-11-07T07:31:43.150Z</td>\n",
       "      <td>-30.9048</td>\n",
       "      <td> -71.5456</td>\n",
       "      <td> 37.56</td>\n",
       "      <td> 6.8</td>\n",
       "      <td> mww</td>\n",
       "      <td>NaN</td>\n",
       "      <td> 26</td>\n",
       "      <td> 0.242</td>\n",
       "      <td> 1.32</td>\n",
       "      <td> us</td>\n",
       "      <td> us10003vgt</td>\n",
       "      <td> 2015-11-12T01:01:15.542Z</td>\n",
       "      <td>       47km SW of Ovalle, Chile</td>\n",
       "      <td> earthquake</td>\n",
       "    </tr>\n",
       "  </tbody>\n",
       "</table>\n",
       "</div>"
      ],
      "text/plain": [
       "                       time  latitude  longitude  depth  mag magType  nst  \\\n",
       "0  2015-11-13T20:51:31.920Z   30.9977   128.8362  10.00  6.7     mww  NaN   \n",
       "1  2015-11-11T02:46:19.900Z  -29.4445   -72.1732  10.00  6.9     mww  NaN   \n",
       "2  2015-11-11T01:54:37.710Z  -29.4393   -72.1054  10.00  6.9     mww  NaN   \n",
       "3  2015-11-08T16:47:02.140Z    6.8456    94.6609  10.00  6.4     mwb  NaN   \n",
       "4  2015-11-07T07:31:43.150Z  -30.9048   -71.5456  37.56  6.8     mww  NaN   \n",
       "\n",
       "   gap   dmin   rms net          id                   updated  \\\n",
       "0   17  1.475  1.64  us  us10003y71  2015-11-13T22:57:36.938Z   \n",
       "1   33  0.940  1.53  us  us10003x9g  2015-11-13T06:15:19.359Z   \n",
       "2   39  0.893  1.53  us  us10003x8t  2015-11-11T15:28:23.143Z   \n",
       "3   31  2.783  1.23  us  us10003vry  2015-11-09T04:37:22.000Z   \n",
       "4   26  0.242  1.32  us  us10003vgt  2015-11-12T01:01:15.542Z   \n",
       "\n",
       "                            place        type  \n",
       "0  144km WSW of Makurazaki, Japan  earthquake  \n",
       "1      98km NW of Coquimbo, Chile  earthquake  \n",
       "2      93km NW of Coquimbo, Chile  earthquake  \n",
       "3   128km NW of Sabang, Indonesia  earthquake  \n",
       "4        47km SW of Ovalle, Chile  earthquake  "
      ]
     },
     "execution_count": 15,
     "metadata": {},
     "output_type": "execute_result"
    }
   ],
   "source": [
    "last_30 = download_data(1)\n",
    "data_45 = download_data(2)\n",
    "data_25 = download_data(3)\n",
    "data_10 = download_data(4)\n",
    "last_30.head()"
   ]
  },
  {
   "cell_type": "markdown",
   "metadata": {},
   "source": [
    "###Q2) Analyzing the data ###\n",
    "\n",
    "In order to understand the data we will plot different attributes of the data using tools provided by matplotlib.\n",
    "In order to do that, we will first create a class object for the given dataframe.\n",
    "\n",
    "2.1) The class will have a set of functions to generate different plots. The first function will output a histogram taking column type as input. The column type is restricted to latitude or longitude. Take default interval size as 10 degrees\n",
    "\n",
    "2.2) Write another function which when called will output a scatter plot of longitude vs. latitude. For extra credit represent each earthquake by a circle whose area is proporportional to the strength of the earthquake."
   ]
  },
  {
   "cell_type": "code",
   "execution_count": 28,
   "metadata": {
    "collapsed": false
   },
   "outputs": [
    {
     "name": "stdout",
     "output_type": "stream",
     "text": [
      "-179.8705 179.9497\n"
     ]
    },
    {
     "data": {
      "image/png": "[encoded data removed]",
      "text/plain": [
       "<matplotlib.figure.Figure at 0x10fce8150>"
      ]
     },
     "metadata": {},
     "output_type": "display_data"
    }
   ],
   "source": [
    "def DF_hist(df,col='longitude'):\n",
    "    Min=df[col].min();\n",
    "    Max=df[col].max();\n",
    "    print Min,Max\n",
    "    df.hist(column=col,bins=int((Max-Min)/10.0))\n",
    "DF_hist(data_25)"
   ]
  },
  {
   "cell_type": "code",
   "execution_count": null,
   "metadata": {
    "collapsed": true
   },
   "outputs": [],
   "source": [
    "class dataPlot(object):\n",
    "    \"\"\"dataPlot takes a pandas dataframe as input and outputs different plots correspondng to the input dataframe\"\"\"\n",
    "    \n",
    "    def __init__(self):\n",
    "        \"\"\"Initialize variables\"\"\"\n",
    "        raise \"TODO\"\n",
    "        \n",
    "    def histogram(self,colType):\n",
    "        raise \"TODO\"\n",
    "        \n",
    "    def scatter(self):\n",
    "        raise \"TODO\""
   ]
  },
  {
   "cell_type": "markdown",
   "metadata": {},
   "source": [
    "### Q3) Plotting data on the map ###"
   ]
  },
  {
   "cell_type": "markdown",
   "metadata": {
    "collapsed": false,
    "scrolled": true
   },
   "source": [
    "In the last class we had used basemap to plot the weather data. Now we will use basemap to plot the earthquake data, and further enhance it with a rain animation to indicate the severity of the incident. We will start initially with the dataset corresponding to earthquakes magnitude > 4.5"
   ]
  },
  {
   "cell_type": "code",
   "execution_count": null,
   "metadata": {
    "collapsed": true
   },
   "outputs": [],
   "source": [
    "data_45 = download_data(2)"
   ]
  },
  {
   "cell_type": "markdown",
   "metadata": {},
   "source": [
    "First we will import necessary libraries"
   ]
  },
  {
   "cell_type": "code",
   "execution_count": null,
   "metadata": {
    "collapsed": true
   },
   "outputs": [],
   "source": [
    "from mpl_toolkits.basemap import Basemap\n",
    "import matplotlib.animation as animation"
   ]
  },
  {
   "cell_type": "markdown",
   "metadata": {},
   "source": [
    "Next we will generate a figure canvas with a basemap projection. We will use the 'mill' projection of Basemap for this assignment. "
   ]
  },
  {
   "cell_type": "code",
   "execution_count": null,
   "metadata": {
    "collapsed": false
   },
   "outputs": [],
   "source": [
    "#General plot  initializations\n",
    "fig = plt.figure(figsize=(14,10))\n",
    "ax = plt.subplot(1,1,1)\n",
    "earth = Basemap(projection='mill')"
   ]
  },
  {
   "cell_type": "markdown",
   "metadata": {},
   "source": [
    "We will then draw coastlines and continents"
   ]
  },
  {
   "cell_type": "code",
   "execution_count": null,
   "metadata": {
    "collapsed": false
   },
   "outputs": [],
   "source": [
    "earth.drawcoastlines(color='0.50', linewidth=0.25)\n",
    "earth.fillcontinents(color='0.95')"
   ]
  },
  {
   "cell_type": "markdown",
   "metadata": {},
   "source": [
    "Now we will plot the magnitude of different earthquakes on the above plot according to the latitude and longitude of the origin and enhance it using Rain animation\n",
    "\n",
    "#### Rain animation ####\n",
    "A very simple rain effect can be obtained by having small growing rings randomly positioned over a figure. Of course, they won't grow forever since the wave is supposed to damp with time. To simulate that, we can use a more and more transparent color as the ring is growing, up to the point where it is no more visible. At this point, we remove the ring and create a new one.\n",
    "\n",
    "An example from rain animation can be loaded by running the next cell (source: http://matplotlib.org/examples/animation/rain.html)"
   ]
  },
  {
   "cell_type": "code",
   "execution_count": null,
   "metadata": {
    "collapsed": false
   },
   "outputs": [],
   "source": [
    "# %load rain.py\n",
    "\"\"\"Rain Simulation\n",
    "\n",
    "Simulates rain drops on a surface by animating the scale and opacity\n",
    "of 50 scatter points.\n",
    "\n",
    "Author: Nicolas P. Rougier\n",
    "\"\"\"\n",
    "import numpy as np\n",
    "import matplotlib.pyplot as plt\n",
    "from matplotlib.animation import FuncAnimation\n",
    "\n",
    "\n",
    "# Create new Figure and an Axes which fills it.\n",
    "fig = plt.figure(figsize=(7, 7))\n",
    "ax = fig.add_axes([0, 0, 1, 1], frameon=False)\n",
    "ax.set_xlim(0, 1), ax.set_xticks([])\n",
    "ax.set_ylim(0, 1), ax.set_yticks([])\n",
    "\n",
    "# Create rain data\n",
    "n_drops = 50\n",
    "rain_drops = np.zeros(n_drops, dtype=[('position', float, 2),\n",
    "                                      ('size',     float, 1),\n",
    "                                      ('growth',   float, 1),\n",
    "                                      ('color',    float, 4)])\n",
    "\n",
    "# Initialize the raindrops in random positions and with\n",
    "# random growth rates.\n",
    "rain_drops['position'] = np.random.uniform(0, 1, (n_drops, 2))\n",
    "rain_drops['growth'] = np.random.uniform(50, 200, n_drops)\n",
    "\n",
    "# Construct the scatter which we will update during animation\n",
    "# as the raindrops develop.\n",
    "scat = ax.scatter(rain_drops['position'][:, 0], rain_drops['position'][:, 1],\n",
    "                  s=rain_drops['size'], lw=0.5, edgecolors=rain_drops['color'],\n",
    "                  facecolors='none')\n",
    "\n",
    "\n",
    "def update(frame_number):\n",
    "    # Get an index which we can use to re-spawn the oldest raindrop.\n",
    "    current_index = frame_number % n_drops\n",
    "\n",
    "    # Make all colors more transparent as time progresses.\n",
    "    rain_drops['color'][:, 3] -= 1.0/len(rain_drops)\n",
    "    rain_drops['color'][:, 3] = np.clip(rain_drops['color'][:, 3], 0, 1)\n",
    "\n",
    "    # Make all circles bigger.\n",
    "    rain_drops['size'] += rain_drops['growth']\n",
    "\n",
    "    # Pick a new position for oldest rain drop, resetting its size,\n",
    "    # color and growth factor.\n",
    "    rain_drops['position'][current_index] = np.random.uniform(0, 1, 2)\n",
    "    rain_drops['size'][current_index] = 5\n",
    "    rain_drops['color'][current_index] = (0, 0, 0, 1)\n",
    "    rain_drops['growth'][current_index] = np.random.uniform(50, 200)\n",
    "\n",
    "    # Update the scatter collection, with the new colors, sizes and positions.\n",
    "    scat.set_edgecolors(rain_drops['color'])\n",
    "    scat.set_sizes(rain_drops['size'])\n",
    "    scat.set_offsets(rain_drops['position'])\n",
    "    return scat\n",
    "\n",
    "# Construct the animation, using the update function as the animation\n",
    "# director.\n",
    "animation = FuncAnimation(fig, update, interval=10)\n",
    "plt.show()\n",
    "\n"
   ]
  },
  {
   "cell_type": "markdown",
   "metadata": {},
   "source": [
    "As you can see from the above code, the animation can be called from matplotlib's animation function using FuncAnimation or in our case animation.FuncAnimation. This will require an update function, a canvas fig, and an interval)"
   ]
  },
  {
   "cell_type": "markdown",
   "metadata": {},
   "source": [
    "Q4) Now, based on the above rain animation, write an update function to plot the earthquake on earlier created fig. Set the interval as 10. i.e \n",
    "animation = animation.FuncAnimation(fig, update, interval=10)\n",
    "\n",
    "To do this, create two objects rain_drops and scat as shown in the code above. The rain_drops and scat should be of the type as follows."
   ]
  },
  {
   "cell_type": "code",
   "execution_count": null,
   "metadata": {
    "collapsed": false
   },
   "outputs": [],
   "source": [
    "rain_drops = np.zeros(50, dtype=[('position', float, 2),\n",
    "                         ('size',     float, 1),\n",
    "                         ('growth',   float, 1),\n",
    "                         ('color',    float, 4)])\n",
    "scat = ax.scatter(rain_drops['position'][:,0], rain_drops['position'][:,1], rain_drops['size'], lw=0.5,\n",
    "                  edgecolors = rain_drops['color'], facecolors='None', zorder=10)"
   ]
  },
  {
   "cell_type": "markdown",
   "metadata": {},
   "source": [
    "Some of the key attributes for the plot should be set as follows\n",
    "1. number of drops is 50\n",
    "2. drop size is 5\n",
    "3. growth is exponential with respect to magnitude i.e np.exp(magnitude) * 0.1\n",
    "4. If magnitude less than 6 set color as 0,0,1,1 else set color as 1,0,0,1\n",
    "\n",
    "The scat object functions \n",
    "1. set_edgecolors\n",
    "2. set_sizes\n",
    "3. set_offsets\n",
    "4. set_faceColors\n",
    "\n",
    "sets these values and returns the scat object. "
   ]
  },
  {
   "cell_type": "code",
   "execution_count": null,
   "metadata": {
    "collapsed": true
   },
   "outputs": [],
   "source": [
    "def update(frame):\n",
    "    raise \"TODO\""
   ]
  },
  {
   "cell_type": "markdown",
   "metadata": {},
   "source": [
    "Finally, plot the frames as an animation "
   ]
  },
  {
   "cell_type": "code",
   "execution_count": null,
   "metadata": {
    "collapsed": false
   },
   "outputs": [],
   "source": [
    "animation = animation.FuncAnimation(fig, update, interval=10)\n",
    "plt.show()"
   ]
  },
  {
   "cell_type": "markdown",
   "metadata": {},
   "source": [
    "#### Q4) Now, add this function to the above class dataPlot and call it for the dataframes data_25, data_1 ####"
   ]
  },
  {
   "cell_type": "code",
   "execution_count": null,
   "metadata": {
    "collapsed": true
   },
   "outputs": [],
   "source": [
    "class dataPlot(object):\n",
    "    \"\"\"dataPlot takes a pandas dataframe as input and outputs different plots correspondng to the input dataframe\"\"\"\n",
    "    \n",
    "    def __init__(self):\n",
    "        \"\"\"Initialize variables\"\"\"\n",
    "        raise \"TODO\"\n",
    "        \n",
    "    def histogram(self,colType):\n",
    "        raise \"TODO\"\n",
    "        \n",
    "    def scatter(self):\n",
    "        raise \"TODO\"\n",
    "        \n",
    "    def animate(self):\n",
    "        raise \"TODO\""
   ]
  }
 ],
 "metadata": {
  "kernelspec": {
   "display_name": "Python 2",
   "language": "python",
   "name": "python2"
  },
  "language_info": {
   "codemirror_mode": {
    "name": "ipython",
    "version": 2
   },
   "file_extension": ".py",
   "mimetype": "text/x-python",
   "name": "python",
   "nbconvert_exporter": "python",
   "pygments_lexer": "ipython2",
   "version": "2.7.10"
  }
 },
 "nbformat": 4,
 "nbformat_minor": 0
}
