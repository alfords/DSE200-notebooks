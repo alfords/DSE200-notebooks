{
 "cells": [
  {
   "cell_type": "markdown",
   "metadata": {},
   "source": [
    "# Lecture4 Exercises"
   ]
  },
  {
   "cell_type": "markdown",
   "metadata": {},
   "source": [
    "### Instructor note - This is a student (Amisha Bhanage)'s solution notebook"
   ]
  },
  {
   "cell_type": "markdown",
   "metadata": {},
   "source": [
    "## Functional Programming\n",
    "\n",
    "Use the [map](https://docs.python.org/2/library/functions.html#map) and [filter](https://docs.python.org/2/library/functions.html#filter) functions to convert the list `l = [0,1,2,3,4,5,6,7,8,9,10]` into a list of the squares of the even numbers in `l`.\n",
    "\n",
    "Hints:\n",
    "\n",
    "1. Use map() to apply a function to each element in the list\n",
    "2. Use filter() to filter elements of a list\n",
    "3. Use lambda to define anonymous functions\n",
    "4. *Do not* use list comprehensions"
   ]
  },
  {
   "cell_type": "code",
   "execution_count": null,
   "metadata": {
    "collapsed": false
   },
   "outputs": [],
   "source": [
    "l = [0,1,2,3,4,5,6,7,8,9,10]\n",
    "mapSquares = map(lambda a: a**2, l)\n",
    "filteredList = filter (lambda x: x%2==0, mapSquares)\n",
    "print filteredList"
   ]
  },
  {
   "cell_type": "markdown",
   "metadata": {},
   "source": [
    "### Object Oriented Programming"
   ]
  },
  {
   "cell_type": "markdown",
   "metadata": {},
   "source": [
    "Implement a Python iterator which iterates over string characters (ASCII only) returning their ASCII code\n",
    "\n",
    "1. Define a new iterator class which contains two methods:\n",
    "    -init – a constructor taking the ASCII string as a argument,\n",
    "    -next – returns the ASCII code of the next character or raises a StopIteration exception if the string end was encountered.\n",
    "\n",
    "2. Define a new iterable class which wraps around a string and contains iter method which returns the iterator instance.\n",
    "3. Test your code using explicit calls of next method (see example in the lecture) and for loop."
   ]
  },
  {
   "cell_type": "code",
   "execution_count": null,
   "metadata": {
    "collapsed": false
   },
   "outputs": [],
   "source": [
    "class StringIterator:\n",
    "    stringIndex = 0   #identification number - this is a class variable\n",
    "    \n",
    "    def __init__(self, string):\n",
    "        self.string = string\n",
    "        self.stringIndex = 0\n",
    "    \n",
    "    def next(self):\n",
    "        try:\n",
    "            asciiCode = self.string[self.stringIndex]\n",
    "        except IndexError:\n",
    "            raise StopIteration('End of String encountered')\n",
    "        self.stringIndex += 1\n",
    "        return ord(asciiCode)\n",
    "        \n",
    "class StringIterable:\n",
    "    def __init__(self,string):\n",
    "        self.string = string\n",
    "        \n",
    "    def __iter__(self):\n",
    "        return StringIterator(self.string)"
   ]
  },
  {
   "cell_type": "code",
   "execution_count": null,
   "metadata": {
    "collapsed": false
   },
   "outputs": [],
   "source": [
    "# Test the code using explicit calls of next method\n",
    "s1 = StringIterator(\"DSE200\")\n",
    "\n",
    "print s1.next()\n",
    "print s1.next()\n",
    "print s1.next()\n",
    "print s1.next()\n",
    "print s1.next()\n",
    "print s1.next()\n",
    "print s1.next();"
   ]
  },
  {
   "cell_type": "code",
   "execution_count": null,
   "metadata": {
    "collapsed": false
   },
   "outputs": [],
   "source": [
    "# Test the code using For loop\n",
    "y=StringIterable('DSE200')\n",
    "\n",
    "for x in y:\n",
    "    print x"
   ]
  },
  {
   "cell_type": "markdown",
   "metadata": {},
   "source": [
    "## Fibonacci Sequence\n",
    "\n",
    "write a class Fibonacci whose constructor takes two numbers; the class uses these two numbers as the first two numbers in the sequence. \n",
    "\n",
    "1. The class should have a method calculate(n) that returns the n-th number in the sequence.\n",
    "2. Add a method next(). The first call to next() returns the first number in the sequence, the second call returns the second number, and so on. You'll need instance variables to save state between calls. \n",
    "3. Finally, add a method writeToFile(n, filename), that writes the first n numbers in the sequence to the file named filename, one number per line.\n",
    "\n",
    "**HINT:** you should store previously computed fibonachi numbers instead of recomputing every one as they are needed"
   ]
  },
  {
   "cell_type": "code",
   "execution_count": null,
   "metadata": {
    "collapsed": false
   },
   "outputs": [],
   "source": [
    "class Fibonacci:\n",
    "    def __init__(self):\n",
    "        self.i = 0\n",
    "        self.x = 0\n",
    "        self.y = 1\n",
    "        self.F = [self.x,self.y]\n",
    "    \n",
    "    def next(self):\n",
    "        self.i +=1\n",
    "        return self.F[self.i-1] # return next # from list F\n",
    "        \n",
    "    def calculate(self, n):\n",
    "        # use previously computed fibonachi numbers stored in list F\n",
    "        l = len(self.F)\n",
    "        x = self.F[l-2]\n",
    "        y = self.F[l-1]\n",
    "        newn = n-l\n",
    "        # calculate new numbers if it does not exist in list\n",
    "        for i in range(newn+1):\n",
    "            x, y = y, x + y\n",
    "            self.F.append(y)\n",
    "        return self.F[n]  # return nth # in Fibonacci series\n",
    "        \n",
    "    def writeToFile(self, n, filename):\n",
    "        filehandle = open(filename, 'a') #append to file\n",
    "        self.calculate(n)\n",
    "        for j in range(n):\n",
    "            filehandle.write(str(self.F[j])+'\\n')\n",
    "        filehandle.close()"
   ]
  },
  {
   "cell_type": "code",
   "execution_count": null,
   "metadata": {
    "collapsed": false
   },
   "outputs": [],
   "source": [
    "#Testing code, should all equal print true\n",
    "fib = Fibonacci()\n",
    "\n",
    "print fib.calculate(0) == 0\n",
    "print fib.calculate(1) == 1\n",
    "print fib.calculate(2) == 1\n",
    "print fib.calculate(3) == 2\n",
    "print fib.calculate(20) == 6765 \n",
    "print fib.next() == fib.calculate(0)\n",
    "print fib.next() == fib.calculate(1)\n",
    "print fib.next() == fib.calculate(2)\n",
    "fib.writeToFile(30, \"fib.out\")"
   ]
  },
  {
   "cell_type": "markdown",
   "metadata": {},
   "source": [
    "Write a function solve(h,l) which solves the folowing classic puzzle: \n",
    "\n",
    "We count h heads and l legs among the chickens and rabbits in a farm. How many rabbits and how many chickens do we have? where h and l are the parameters passed to the function solve\n",
    "\n",
    "    >> numheads=35\n",
    "    >> numlegs=94\n",
    "    >> solutions=solve(numheads,numlegs)\n",
    "    >> print solutions\n",
    "\n"
   ]
  },
  {
   "cell_type": "code",
   "execution_count": null,
   "metadata": {
    "collapsed": false
   },
   "outputs": [],
   "source": [
    "import numpy as np\n",
    "def solve(h,l):\n",
    "    #Heads: 1 rabbit + 1 chicken  = h\n",
    "    #Legs:  4 rabbit + 2 chicken  = l\n",
    "    \n",
    "    #Solving for the linear system of equations:\n",
    "    # | 1  1 ||rabb| = | h |   =>   |rabb| = | 1 1 |**-1  |h|\n",
    "    # | 4  2 ||chic|   | l |        |chic|   | 4 2 |      |l|\n",
    "    \n",
    "    # Using matrix and Inverse Matrix\n",
    "    rabchicmatrix = np.matrix([[1,1],[4,2]])\n",
    "    [rab,chic] = np.linalg.inv(rabchicmatrix)*[[h],[l]]\n",
    "    \n",
    "    print \"We have \" ,rab.item(0), \"rabbits and \", chic.item(0), \"chickens in the farm.\"\n",
    "    result = {}\n",
    "    result['Rabbits']=int(rab.item(0))\n",
    "    result['Chickens']=int(chic.item(0))\n",
    "    return result\n",
    "    "
   ]
  },
  {
   "cell_type": "code",
   "execution_count": null,
   "metadata": {
    "collapsed": true
   },
   "outputs": [],
   "source": [
    "#Alternatively using arrays and np.solve\n",
    "import numpy as np\n",
    "def solve(h,l):\n",
    "    a = np.array([[1,1], [4,2]])\n",
    "    b = np.array([h,l])\n",
    "    x = np.linalg.solve(a, b)\n",
    "    print \"We have \" ,int(x[0]), \"rabbits and \",int(x[1]), \"chickens in the farm.\"\n",
    "    return x\n"
   ]
  },
  {
   "cell_type": "code",
   "execution_count": null,
   "metadata": {
    "collapsed": false
   },
   "outputs": [],
   "source": [
    "numheads=35\n",
    "numlegs=94\n",
    "solutions=solve(numheads,numlegs)\n",
    "print solutions"
   ]
  },
  {
   "cell_type": "code",
   "execution_count": null,
   "metadata": {
    "collapsed": true
   },
   "outputs": [],
   "source": []
  }
 ],
 "metadata": {
  "anaconda-cloud": {},
  "kernelspec": {
   "display_name": "Python 3",
   "language": "python",
   "name": "python3"
  },
  "language_info": {
   "codemirror_mode": {
    "name": "ipython",
    "version": 3
   },
   "file_extension": ".py",
   "mimetype": "text/x-python",
   "name": "python",
   "nbconvert_exporter": "python",
   "pygments_lexer": "ipython3",
   "version": "3.5.2"
  }
 },
 "nbformat": 4,
 "nbformat_minor": 0
}
