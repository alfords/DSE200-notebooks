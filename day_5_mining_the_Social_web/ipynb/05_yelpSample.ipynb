{
 "cells": [
  {
   "cell_type": "code",
   "execution_count": 4,
   "metadata": {
    "collapsed": false
   },
   "outputs": [
    {
     "name": "stdout",
     "output_type": "stream",
     "text": [
      "usage: yelpSample.py [-h] [-q TERM] [-l LOCATION]\r\n",
      "\r\n",
      "optional arguments:\r\n",
      "  -h, --help            show this help message and exit\r\n",
      "  -q TERM, --term TERM  Search term (default: dinner)\r\n",
      "  -l LOCATION, --location LOCATION\r\n",
      "                        Search location (default: San Francisco, CA)\r\n"
     ]
    }
   ],
   "source": [
    "# get some help\n",
    "!python yelpSample.py -h"
   ]
  },
  {
   "cell_type": "code",
   "execution_count": 5,
   "metadata": {
    "collapsed": false
   },
   "outputs": [
    {
     "name": "stdout",
     "output_type": "stream",
     "text": [
      "Querying http://api.yelp.com/v2/search/? ...\n",
      "3 businesses found, querying business info for the top result \"sushi-ota-san-diego\" ...\n",
      "Querying http://api.yelp.com/v2/business/sushi-ota-san-diego? ...\n",
      "Result for business \"sushi-ota-san-diego\" found:\n",
      "{ u'categories': [[u'Sushi Bars', u'sushi'], [u'Japanese', u'japanese']],\n",
      "  u'display_phone': u'+1-858-270-5670',\n",
      "  u'id': u'sushi-ota-san-diego',\n",
      "  u'image_url': u'https://s3-media3.fl.yelpcdn.com/bphoto/bySWiib8tOs8lPO-s7X7Sw/ms.jpg',\n",
      "  u'is_claimed': False,\n",
      "  u'is_closed': False,\n",
      "  u'location': { u'address': [u'4529 Mission Bay Dr'],\n",
      "                 u'city': u'San Diego',\n",
      "                 u'coordinate': { u'latitude': 32.8036503,\n",
      "                                  u'longitude': -117.2171111},\n",
      "                 u'country_code': u'US',\n",
      "                 u'cross_streets': u'Bunker Hill St',\n",
      "                 u'display_address': [ u'4529 Mission Bay Dr',\n",
      "                                       u'Pacific Beach',\n",
      "                                       u'San Diego, CA 92109'],\n",
      "                 u'geo_accuracy': 8.0,\n",
      "                 u'neighborhoods': [u'Pacific Beach'],\n",
      "                 u'postal_code': u'92109',\n",
      "                 u'state_code': u'CA'},\n",
      "  u'mobile_url': u'https://m.yelp.com/biz/sushi-ota-san-diego?adjust_creative=I98D4WjsCt1iKnc2Uws5rQ&utm_campaign=yelp_api&utm_medium=api_v2_business&utm_source=I98D4WjsCt1iKnc2Uws5rQ',\n",
      "  u'name': u'Sushi Ota',\n",
      "  u'phone': u'8582705670',\n",
      "  u'rating': 4.5,\n",
      "  u'rating_img_url': u'https://s3-media2.fl.yelpcdn.com/assets/2/www/img/99493c12711e/ico/stars/v1/stars_4_half.png',\n",
      "  u'rating_img_url_large': u'https://s3-media4.fl.yelpcdn.com/assets/2/www/img/9f83790ff7f6/ico/stars/v1/stars_large_4_half.png',\n",
      "  u'rating_img_url_small': u'https://s3-media2.fl.yelpcdn.com/assets/2/www/img/a5221e66bc70/ico/stars/v1/stars_small_4_half.png',\n",
      "  u'review_count': 2777,\n",
      "  u'reviews': [ { u'excerpt': u'Best sushi in Southern California - yes, including as against Los Angeles.  I had originally thought that sushi was very sub-par in San Diego, which I...',\n",
      "                  u'id': u'p1an1KlPuxeM9l_I7QdEWg',\n",
      "                  u'rating': 5,\n",
      "                  u'rating_image_large_url': u'https://s3-media3.fl.yelpcdn.com/assets/2/www/img/22affc4e6c38/ico/stars/v1/stars_large_5.png',\n",
      "                  u'rating_image_small_url': u'https://s3-media1.fl.yelpcdn.com/assets/2/www/img/c7623205d5cd/ico/stars/v1/stars_small_5.png',\n",
      "                  u'rating_image_url': u'https://s3-media1.fl.yelpcdn.com/assets/2/www/img/f1def11e4e79/ico/stars/v1/stars_5.png',\n",
      "                  u'time_created': 1479008194,\n",
      "                  u'user': { u'id': u'_UMTGara5YnzRIey3Mva0Q',\n",
      "                             u'image_url': u'https://s3-media2.fl.yelpcdn.com/photo/2-d_U5PvSiG7-O0jyBuDnQ/ms.jpg',\n",
      "                             u'name': u'Mark M.'}}],\n",
      "  u'snippet_image_url': u'https://s3-media2.fl.yelpcdn.com/photo/2-d_U5PvSiG7-O0jyBuDnQ/ms.jpg',\n",
      "  u'snippet_text': u'Best sushi in Southern California - yes, including as against Los Angeles.  I had originally thought that sushi was very sub-par in San Diego, which I...',\n",
      "  u'url': u'https://www.yelp.com/biz/sushi-ota-san-diego?adjust_creative=I98D4WjsCt1iKnc2Uws5rQ&utm_campaign=yelp_api&utm_medium=api_v2_business&utm_source=I98D4WjsCt1iKnc2Uws5rQ'}\n"
     ]
    }
   ],
   "source": [
    "!python yelpSample.py --term=\"sushi ota\" --location=\"La Jolla, CA\""
   ]
  },
  {
   "cell_type": "markdown",
   "metadata": {},
   "source": [
    "#### excercise\n",
    "\n",
    "Write a script that returns a web page that contains all of the information about a single restaurant, including the larger images (not starts, for example)."
   ]
  },
  {
   "cell_type": "code",
   "execution_count": null,
   "metadata": {
    "collapsed": true
   },
   "outputs": [],
   "source": []
  }
 ],
 "metadata": {
  "kernelspec": {
   "display_name": "Python 2",
   "language": "python",
   "name": "python2"
  },
  "language_info": {
   "codemirror_mode": {
    "name": "ipython",
    "version": 2
   },
   "file_extension": ".py",
   "mimetype": "text/x-python",
   "name": "python",
   "nbconvert_exporter": "python",
   "pygments_lexer": "ipython2",
   "version": "2.7.12"
  }
 },
 "nbformat": 4,
 "nbformat_minor": 0
}
