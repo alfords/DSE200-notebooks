{
 "metadata": {
  "name": "",
  "signature": "sha256:d9506d6c5d0edab1a5bd2b93e9512dd34049419b85d77152548c6672b0b9c37e"
 },
 "nbformat": 3,
 "nbformat_minor": 0,
 "worksheets": [
  {
   "cells": [
    {
     "cell_type": "markdown",
     "metadata": {},
     "source": [
      "### Visualizing the history of the ebola Epidemic\n",
      "\n",
      "From [this site](http://apps.who.int/gho/data/view.ebola-sitrep.ebola-summary-latest?lang=en) you can download up to date data about the ebola epidemic. We will download the numbers pertaining to cumulative cases and cumulative deaths and generate graphs to visualize them."
     ]
    },
    {
     "cell_type": "code",
     "collapsed": false,
     "input": [
      "# The URL through which the data can be gotten is the following\n",
      "# The %s indicates the place where the date should be inserted, in a format such as: \"2014-11-12\"\n",
      "\n",
      "base_url='http://apps.who.int/gho/athena/xmart/data-verbose.csv?'+\\\n",
      "    'target=EBOLA_MEASURE/CASES,DEATHS&profile=verbose&'+\\\n",
      "    'filter=COUNTRY:GIN;COUNTRY:UNSPECIFIED;COUNTRY:LBR;COUNTRY:UNSPECIFIED;'+\\\n",
      "    'COUNTRY:SLE;COUNTRY:UNSPECIFIED;LOCATION:-;'+\\\n",
      "    'DATAPACKAGEID:%s;INDICATOR_TYPE:SITREP_CUMULATIVE;'+\\\n",
      "    'INDICATOR_TYPE:SITREP_CUMULATIVE_21_DAYS'\n",
      "    "
     ],
     "language": "python",
     "metadata": {},
     "outputs": [],
     "prompt_number": 1
    },
    {
     "cell_type": "code",
     "collapsed": false,
     "input": [
      "# Use requests.get and pandas to create a list of dataframes, one for each date.\n",
      "# Dates for which the downloaded file is less than 1000 byte are ignored (because they contain no data)\n",
      "\n",
      "import pandas as pd\n",
      "import requests\n",
      "from datetime import date, timedelta as td\n",
      "\n",
      "d1 = date(2014,11,1)\n",
      "d2 = date(2014,12,5)\n",
      "delta = d2 - d1\n",
      "\n",
      "DF={}\n",
      "for i in range(delta.days + 1):\n",
      "    D=str(d1 + td(days=i))\n",
      "    url= #define the URL from which to download the data\n",
      "    csv= # Download the data into csv using request.get\n",
      "    if len(csv.content) > 1000:\n",
      "        print '\"%s\"'%D,len(csv.content),\n",
      "        # read the content of csv.content into DF[D]\n",
      "        print shape(DF[D])"
     ],
     "language": "python",
     "metadata": {},
     "outputs": [
      {
       "output_type": "stream",
       "stream": "stdout",
       "text": [
        "\"2014-11-12\" 8901 (36, 23)\n",
        "\"2014-11-14\""
       ]
      },
      {
       "output_type": "stream",
       "stream": "stdout",
       "text": [
        " 8266 (24, 23)\n",
        "\"2014-11-19\""
       ]
      },
      {
       "output_type": "stream",
       "stream": "stdout",
       "text": [
        " 8998 (36, 23)\n",
        "\"2014-11-21\""
       ]
      },
      {
       "output_type": "stream",
       "stream": "stdout",
       "text": [
        " 7806 (24, 23)\n",
        "\"2014-11-26\""
       ]
      },
      {
       "output_type": "stream",
       "stream": "stdout",
       "text": [
        " 9361 (36, 23)\n",
        "\"2014-11-28\""
       ]
      },
      {
       "output_type": "stream",
       "stream": "stdout",
       "text": [
        " 5773 (24, 23)\n",
        "\"2014-12-01\""
       ]
      },
      {
       "output_type": "stream",
       "stream": "stdout",
       "text": [
        " 5940 (24, 23)\n",
        "\"2014-12-02\""
       ]
      },
      {
       "output_type": "stream",
       "stream": "stdout",
       "text": [
        " 5737 (24, 23)\n",
        "\"2014-12-03\""
       ]
      },
      {
       "output_type": "stream",
       "stream": "stdout",
       "text": [
        " 9702 (39, 23)\n",
        "\"2014-12-04\""
       ]
      },
      {
       "output_type": "stream",
       "stream": "stdout",
       "text": [
        " 6239 (26, 23)\n",
        "\"2014-12-05\""
       ]
      },
      {
       "output_type": "stream",
       "stream": "stdout",
       "text": [
        " 6231 (26, 23)\n"
       ]
      }
     ],
     "prompt_number": 2
    },
    {
     "cell_type": "code",
     "collapsed": false,
     "input": [
      "# list the names of the columns for \"2014-11-12\"\n"
     ],
     "language": "python",
     "metadata": {},
     "outputs": [
      {
       "metadata": {},
       "output_type": "pyout",
       "prompt_number": 9,
       "text": [
        "Index([u'COUNTRY (CODE)', u'COUNTRY (DISPLAY)', u'COUNTRY (URL)', u'EBOLA_MEASURE (CODE)', u'EBOLA_MEASURE (DISPLAY)', u'EBOLA_MEASURE (URL)', u'CASE_DEFINITION (CODE)', u'CASE_DEFINITION (DISPLAY)', u'CASE_DEFINITION (URL)', u'EPI_WEEK (CODE)', u'EPI_WEEK (DISPLAY)', u'EPI_WEEK (URL)', u'INDICATOR_TYPE (CODE)', u'INDICATOR_TYPE (DISPLAY)', u'INDICATOR_TYPE (URL)', u'DATAPACKAGEID (CODE)', u'DATAPACKAGEID (DISPLAY)', u'DATAPACKAGEID (URL)', u'Display Value', u'Numeric', u'Low', u'High', u'Comments'], dtype='object')"
       ]
      }
     ],
     "prompt_number": 9
    },
    {
     "cell_type": "code",
     "collapsed": false,
     "input": [
      "# merge the dataframes in DF into a single dataframe called DF_combined\n",
      "# Find the names of the columns that are common to all of the dataframes.\n",
      "# Restrict the data frames to the rows where the measurements have been \n",
      "# cumulative (rather than for the last 21 days) and that the number is confirmed \n",
      "# (rather than estimated or probable)\n",
      "\n",
      "Cols = None\n",
      "DF_Combined=pd.DataFrame()\n",
      "for k in DF.keys():\n",
      "    C=set(DF[k].columns)\n",
      "    if Cols==None:\n",
      "        Cols=C\n",
      "    else:\n",
      "        Cols= # complete\n",
      "    df=DF[k]\n",
      "    df=df[df[]] # Finish to restrict to  cumulative\n",
      "    df=         # Finish to restrict to confirmed\n",
      "    DF_Combined = # concatanate df to DF_Combined\n",
      "    print k, shape(DF_Combined)\n",
      "\n",
      "print Cols"
     ],
     "language": "python",
     "metadata": {},
     "outputs": [
      {
       "output_type": "stream",
       "stream": "stdout",
       "text": [
        "2014-11-14 (6, 23)\n",
        "2014-11-21 (12, 23)\n",
        "2014-11-12 (18, 23)\n",
        "2014-11-26 (24, 23)\n",
        "2014-12-02 (30, 26)\n",
        "2014-11-28 (36, 26)\n",
        "2014-12-01 (42, 26)\n",
        "2014-11-19 (48, 26)\n",
        "2014-12-04"
       ]
      },
      {
       "output_type": "stream",
       "stream": "stdout",
       "text": [
        " (54, 26)\n",
        "2014-12-05 (60, 26)\n",
        "2014-12-03 (66, 26)\n",
        "set(['EBOLA_MEASURE (DISPLAY)', 'CASE_DEFINITION (URL)', 'INDICATOR_TYPE (CODE)', 'DATAPACKAGEID (URL)', 'COUNTRY (CODE)', 'INDICATOR_TYPE (DISPLAY)', 'CASE_DEFINITION (DISPLAY)', 'EBOLA_MEASURE (URL)', 'Display Value', 'Comments', 'High', 'Low', 'INDICATOR_TYPE (URL)', 'DATAPACKAGEID (CODE)', 'EBOLA_MEASURE (CODE)', 'DATAPACKAGEID (DISPLAY)', 'COUNTRY (DISPLAY)', 'Numeric', 'CASE_DEFINITION (CODE)', 'COUNTRY (URL)'])\n"
       ]
      }
     ],
     "prompt_number": 10
    },
    {
     "cell_type": "code",
     "collapsed": false,
     "input": [
      "# As it turns out, some of the rows have a column called 'EPI_WEEK (DISPLAY)' and others have,\n",
      "# for apparently the same meaning, a column called 'EPI_WEEK (DISPLAY)'\n",
      "\n",
      "# write a command to fill in the missing entries in EPI_WEEK (DISPLAY) with the \n",
      "# corresponding values in 'EPI_DATE (DISPLAY)'\n",
      "\n",
      "\n",
      "\n",
      "from datetime import datetime\n",
      "# transform the dates into python date objects so that they can be compared and plotted.\n",
      "dates = list(DF_Combined['EPI_WEEK (DISPLAY)'])\n",
      "DF_Combined['date']=[datetime.strptime(date, \"## FILLIN##\") for date in dates]"
     ],
     "language": "python",
     "metadata": {},
     "outputs": [],
     "prompt_number": 11
    },
    {
     "cell_type": "code",
     "collapsed": false,
     "input": [
      "# cols contains all of the columns we need in DF_Combined\n",
      "cols=['COUNTRY (DISPLAY)',\n",
      " 'EBOLA_MEASURE (DISPLAY)',\n",
      " 'date',\n",
      " 'Numeric']\n",
      "cols"
     ],
     "language": "python",
     "metadata": {},
     "outputs": [
      {
       "metadata": {},
       "output_type": "pyout",
       "prompt_number": 1,
       "text": [
        "['COUNTRY (DISPLAY)', 'EBOLA_MEASURE (DISPLAY)', 'date', 'Numeric']"
       ]
      }
     ],
     "prompt_number": 1
    },
    {
     "cell_type": "code",
     "collapsed": false,
     "input": [
      "#Fill in the missing commands to create the plots given at the bottom.\n",
      "\n",
      "import matplotlib.dates as mdates\n",
      "myFmt = mdates.DateFormatter('%d %B')\n",
      "\n",
      "dff=DF_Combined[cols]\n",
      "dff=dff.sort(columns=['COUNTRY (DISPLAY)','EBOLA_MEASURE (DISPLAY)','date'])\n",
      "Countries=set(dff['COUNTRY (DISPLAY)'])\n",
      "types=set(dff['EBOLA_MEASURE (DISPLAY)'])\n",
      "\n",
      "fig, axarr = plt.subplots(3,sharex=True)\n",
      "fig.set_size_inches(8.5,3.5)  #there is a bug in this line\n",
      "fig.autofmt_xdate()\n",
      "\n",
      "i=0\n",
      "for C in Countries:\n",
      "    for t in types:\n",
      "        data=dff[(dff['COUNTRY (DISPLAY)']==C)&(dff['EBOLA_MEASURE (DISPLAY)']==t)]\n",
      "        axarr[i].plot   #   fill in \n",
      "    axarr[i].xaxis.set_major_formatter(myFmt)\n",
      "    # Use the country name as the title\n",
      "    axarr[i].legend(loc='best')\n",
      "    axarr[i].grid()\n",
      "    i+=1\n",
      "\n",
      "show()"
     ],
     "language": "python",
     "metadata": {},
     "outputs": [
      {
       "metadata": {},
       "output_type": "display_data",
       "png": "[encoded data removed]",
       "text": [
        "<matplotlib.figure.Figure at 0x1081a6050>"
       ]
      }
     ],
     "prompt_number": 13
    },
    {
     "cell_type": "code",
     "collapsed": false,
     "input": [],
     "language": "python",
     "metadata": {},
     "outputs": []
    }
   ],
   "metadata": {}
  }
 ]
}